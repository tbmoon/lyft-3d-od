{
 "cells": [
  {
   "cell_type": "code",
   "execution_count": null,
   "metadata": {},
   "outputs": [],
   "source": [
    "import os\n",
    "import pylab as plt\n",
    "import numpy as np\n",
    "import torch\n",
    "import torch.nn\n",
    "from data_loader import get_dataloader\n",
    "from config import config as cfg\n",
    "from models import VoxelNet\n",
    "from utils import utils\n",
    "\n",
    "from scipy.spatial.transform import Rotation as R\n",
    "\n",
    "from lyft_dataset_sdk.lyftdataset import LyftDataset\n",
    "from lyft_dataset_sdk.utils.data_classes import LidarPointCloud, Box, Quaternion\n",
    "from lyft_dataset_sdk.utils.geometry_utils import view_points, transform_matrix\n",
    "from lyft_dataset_sdk.eval.detection.mAP_evaluation import Box3D, recall_precision\n",
    "\n",
    "%matplotlib inline"
   ]
  },
  {
   "cell_type": "code",
   "execution_count": null,
   "metadata": {},
   "outputs": [],
   "source": [
    "!rm images\n",
    "!rm maps\n",
    "!rm lidar\n",
    "!rm data\n",
    "!ln -s /run/media/hoosiki/WareHouse1/mtb/datasets/lyft-3d-od/train/images images\n",
    "!ln -s /run/media/hoosiki/WareHouse1/mtb/datasets/lyft-3d-od/train/maps maps\n",
    "!ln -s /run/media/hoosiki/WareHouse1/mtb/datasets/lyft-3d-od/train/lidar lidar\n",
    "!ln -s /run/media/hoosiki/WareHouse1/mtb/datasets/lyft-3d-od/train/data data"
   ]
  },
  {
   "cell_type": "code",
   "execution_count": null,
   "metadata": {},
   "outputs": [],
   "source": [
    "lyft_dataset = LyftDataset(data_path='.', json_path='data', verbose=False)"
   ]
  },
  {
   "cell_type": "code",
   "execution_count": null,
   "metadata": {},
   "outputs": [],
   "source": [
    "sample = lyft_dataset.get('sample', 'cea0bba4b425537cca52b17bf81569a20da1ca6d359f33227f0230d59d9d2881')\n",
    "#sample = lyft_dataset.get('sample', '21f0543ffe5aa3886ab18b1b9eee6377fc525658ef92f449c3636245470fb6f0')\n",
    "#sample = lyft_dataset.get('sample', '1d143ba709eaaf6a6db03a0e28d9a1665f76d6b2aa0b9816aef431a9cfbd8eca')\n",
    "#sample = lyft_dataset.get('sample', 'c7f7de87ec90c8993d4e7d5463208d2aa9f5ecde671960536f39b9a86f939d3c')\n",
    "\n",
    "lidar_info = lyft_dataset.get('sample_data', sample['data']['LIDAR_TOP'])\n",
    "lidar_data_path = lyft_dataset.get_sample_data_path(sample['data']['LIDAR_TOP'])\n",
    "gt_boxes3d = lyft_dataset.get_boxes(sample['data']['LIDAR_TOP'])\n",
    "\n",
    "ego_pose = lyft_dataset.get('ego_pose', lidar_info['ego_pose_token'])\n",
    "calibrated_sensor = lyft_dataset.get('calibrated_sensor', lidar_info['calibrated_sensor_token'])"
   ]
  },
  {
   "cell_type": "code",
   "execution_count": null,
   "metadata": {},
   "outputs": [],
   "source": [
    "gt_boxes3d[0]"
   ]
  },
  {
   "cell_type": "code",
   "execution_count": null,
   "metadata": {},
   "outputs": [],
   "source": [
    "gt_boxes3d[1]"
   ]
  },
  {
   "cell_type": "code",
   "execution_count": null,
   "metadata": {},
   "outputs": [],
   "source": [
    "gt_boxes3d[-1]"
   ]
  },
  {
   "cell_type": "code",
   "execution_count": null,
   "metadata": {},
   "outputs": [],
   "source": [
    "gt_boxes3d_xyzlwhr = np.array([[gt_box3d.center[0],\n",
    "                                gt_box3d.center[1],\n",
    "                                gt_box3d.center[2],\n",
    "                                gt_box3d.wlh[1],\n",
    "                                gt_box3d.wlh[0],\n",
    "                                gt_box3d.wlh[2],\n",
    "                                gt_box3d.orientation.yaw_pitch_roll[0]] for gt_box3d in gt_boxes3d])"
   ]
  },
  {
   "cell_type": "code",
   "execution_count": null,
   "metadata": {},
   "outputs": [],
   "source": [
    "gt_boxes3d = utils.convert_boxes3d_from_global_to_sensor_frame(gt_boxes3d, ego_pose, calibrated_sensor)"
   ]
  },
  {
   "cell_type": "code",
   "execution_count": null,
   "metadata": {},
   "outputs": [],
   "source": [
    "gt_boxes3d_xyzlwhr = np.array([[gt_box3d.center[0],\n",
    "                                gt_box3d.center[1],\n",
    "                                gt_box3d.center[2],\n",
    "                                gt_box3d.wlh[1],\n",
    "                                gt_box3d.wlh[0],\n",
    "                                gt_box3d.wlh[2],\n",
    "                                gt_box3d.orientation.yaw_pitch_roll[0]] for gt_box3d in gt_boxes3d])"
   ]
  },
  {
   "cell_type": "code",
   "execution_count": null,
   "metadata": {},
   "outputs": [],
   "source": [
    "boxes3d = utils.convert_boxes3d_xyzlwhr_to_Box(gt_boxes3d_xyzlwhr)"
   ]
  },
  {
   "cell_type": "code",
   "execution_count": null,
   "metadata": {},
   "outputs": [],
   "source": [
    "tmp = utils.convert_boxes3d_from_sensor_to_global_frame(boxes3d, ego_pose, calibrated_sensor)"
   ]
  },
  {
   "cell_type": "code",
   "execution_count": null,
   "metadata": {},
   "outputs": [],
   "source": [
    "tmp[0]"
   ]
  },
  {
   "cell_type": "code",
   "execution_count": null,
   "metadata": {},
   "outputs": [],
   "source": [
    "tmp[1]"
   ]
  },
  {
   "cell_type": "code",
   "execution_count": null,
   "metadata": {},
   "outputs": [],
   "source": [
    "tmp[-1]"
   ]
  },
  {
   "cell_type": "code",
   "execution_count": null,
   "metadata": {},
   "outputs": [],
   "source": [
    "tmp[-1].orientation.yaw_pitch_roll[0]"
   ]
  }
 ],
 "metadata": {
  "kernelspec": {
   "display_name": "Python 3",
   "language": "python",
   "name": "python3"
  },
  "language_info": {
   "codemirror_mode": {
    "name": "ipython",
    "version": 3
   },
   "file_extension": ".py",
   "mimetype": "text/x-python",
   "name": "python",
   "nbconvert_exporter": "python",
   "pygments_lexer": "ipython3",
   "version": "3.6.7"
  }
 },
 "nbformat": 4,
 "nbformat_minor": 2
}

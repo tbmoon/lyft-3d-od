{
 "cells": [
  {
   "cell_type": "code",
   "execution_count": null,
   "metadata": {},
   "outputs": [],
   "source": [
    "import os\n",
    "import numpy as np\n",
    "import pandas as pd\n",
    "import torch\n",
    "import torch.utils.data as data\n",
    "import matplotlib.pyplot as plt\n",
    "\n",
    "from lyft_dataset_sdk.lyftdataset import LyftDataset\n",
    "from lyft_dataset_sdk.utils.data_classes import LidarPointCloud, Quaternion\n",
    "from lyft_dataset_sdk.utils.geometry_utils import transform_matrix"
   ]
  },
  {
   "cell_type": "code",
   "execution_count": null,
   "metadata": {},
   "outputs": [],
   "source": [
    "input_dir = '/run/media/hoosiki/WareHouse1/mtb/datasets/lyft-3d-od'\n",
    "\n",
    "lyft_dataset = LyftDataset(data_path=os.path.join(input_dir, 'train'),\n",
    "                           json_path=os.path.join(input_dir, 'train', 'data'),\n",
    "                           verbose=True)"
   ]
  },
  {
   "cell_type": "code",
   "execution_count": null,
   "metadata": {},
   "outputs": [],
   "source": [
    "sample = lyft_dataset.get('sample', 'b71497fc753ec107ca1ca6427f2513c550835aa244504550a5b0e2edd341f57d')\n",
    "lidar = lyft_dataset.get('sample_data', sample['data']['LIDAR_TOP'])\n",
    "lidar_data_path = lyft_dataset.get_sample_data_path(sample['data']['LIDAR_TOP'])\n",
    "\n",
    "ego_pose = lyft_dataset.get('ego_pose', lidar['ego_pose_token'])\n",
    "calibrated_sensor = lyft_dataset.get('calibrated_sensor', lidar['calibrated_sensor_token'])\n",
    "\n",
    "global_from_car = transform_matrix(ego_pose['translation'],\n",
    "                                   Quaternion(ego_pose['rotation']),\n",
    "                                   inverse=False)\n",
    "\n",
    "car_from_sensor = transform_matrix(calibrated_sensor['translation'],\n",
    "                                   Quaternion(calibrated_sensor['rotation']),\n",
    "                                   inverse=False)\n",
    "\n",
    "# pointcloud w.r.t sensor frame: [xyzi, n_points]\n",
    "pointcloud = LidarPointCloud.from_file(lidar_data_path)\n",
    "# pointcloud w.r.t car frame.\n",
    "pointcloud.transform(car_from_sensor)\n",
    "# pointcloud: [xyzi, n_points] -> [n_points, xyzi]\n",
    "pointcloud = pointcloud.points.transpose(1, 0)"
   ]
  },
  {
   "cell_type": "code",
   "execution_count": null,
   "metadata": {},
   "outputs": [],
   "source": [
    "pointcloud = pointcloud.transpose(1, 0)\n",
    "pointcloud.shape"
   ]
  },
  {
   "cell_type": "code",
   "execution_count": null,
   "metadata": {},
   "outputs": [],
   "source": [
    "# A sanity check, the points should be centered around 0 in car space.\n",
    "plt.hist(pointcloud[0], alpha=0.5, bins=30, label=\"X\")\n",
    "plt.hist(pointcloud[1], alpha=0.5, bins=30, label=\"Y\")\n",
    "plt.hist(pointcloud[2], alpha=0.5, bins=30, label=\"Z\")\n",
    "plt.legend()\n",
    "plt.xlabel(\"Distance from car along axis\")\n",
    "plt.ylabel(\"Amount of points\")\n",
    "plt.show()"
   ]
  },
  {
   "cell_type": "code",
   "execution_count": null,
   "metadata": {},
   "outputs": [],
   "source": [
    "for i in range(3):\n",
    "    mean = pointcloud[i].mean()\n",
    "    std = pointcloud[i].std()\n",
    "    print(mean-3*std, mean+3*std)"
   ]
  }
 ],
 "metadata": {
  "kernelspec": {
   "display_name": "Python 3",
   "language": "python",
   "name": "python3"
  },
  "language_info": {
   "codemirror_mode": {
    "name": "ipython",
    "version": 3
   },
   "file_extension": ".py",
   "mimetype": "text/x-python",
   "name": "python",
   "nbconvert_exporter": "python",
   "pygments_lexer": "ipython3",
   "version": "3.6.7"
  }
 },
 "nbformat": 4,
 "nbformat_minor": 2
}

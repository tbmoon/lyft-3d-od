{
 "cells": [
  {
   "cell_type": "code",
   "execution_count": null,
   "metadata": {},
   "outputs": [],
   "source": [
    "import os\n",
    "import glob\n",
    "import pandas as pd\n",
    "import numpy as np\n",
    "from datetime import datetime\n",
    "from lyft_dataset_sdk.lyftdataset import LyftDataset\n",
    "from lyft_dataset_sdk.utils.data_classes import LidarPointCloud, Box, Quaternion\n",
    "from lyft_dataset_sdk.utils.geometry_utils import view_points, transform_matrix"
   ]
  },
  {
   "cell_type": "code",
   "execution_count": null,
   "metadata": {},
   "outputs": [],
   "source": [
    "input_dir = '/run/media/hoosiki/WareHouse1/mtb/datasets/lyft-3d-od'\n",
    "output_dir = '../data'"
   ]
  },
  {
   "cell_type": "code",
   "execution_count": null,
   "metadata": {},
   "outputs": [],
   "source": [
    "lyft_dataset = LyftDataset(data_path=os.path.join(input_dir, 'train'), json_path=os.path.join(input_dir, 'train', 'data'), verbose=True)"
   ]
  },
  {
   "cell_type": "code",
   "execution_count": null,
   "metadata": {},
   "outputs": [],
   "source": [
    "scene_records = [(lyft_dataset.get('sample', scene['first_sample_token'])['timestamp'], scene) for scene in lyft_dataset.scene]\n",
    "scene_records"
   ]
  },
  {
   "cell_type": "code",
   "execution_count": null,
   "metadata": {},
   "outputs": [],
   "source": [
    "scene_entries = []\n",
    "\n",
    "for start_time, scene in sorted(scene_records):\n",
    "    \n",
    "    # ex) token: 473093b48a7cb78d05e36245fd2dbd12d66ded7dab1ecb862945390b8a765c0a\n",
    "    #     name: host-a007-lidar0-1230485630199365106-1230485655099030186\n",
    "    #     date: date: 2019-01-02 17:33:50.301987\n",
    "    #     host: host-a007\n",
    "    #     first_sample_token: c7f7de87ec90c8993d4e7d5463208d2aa9f5ecde671960536f39b9a86f939d3c\n",
    "    start_time = lyft_dataset.get('sample', scene['first_sample_token'])['timestamp'] / 1e+6\n",
    "    token = scene['token']\n",
    "    name = scene['name']\n",
    "    date = datetime.utcfromtimestamp(start_time)\n",
    "    host = '-'.join(name.split('-')[:2])\n",
    "    first_sample_token = scene['first_sample_token']\n",
    "    scene_entries.append((host, name, date, token, first_sample_token))\n",
    "    \n",
    "df_scene = pd.DataFrame(scene_entries, columns=['host', 'scene_name', 'date', 'scene_token', 'first_sample_token'])\n",
    "df_scene"
   ]
  },
  {
   "cell_type": "code",
   "execution_count": null,
   "metadata": {},
   "outputs": [],
   "source": [
    "df_host_count = df_scene.groupby('host')['scene_token'].count()\n",
    "df_host_count"
   ]
  },
  {
   "cell_type": "code",
   "execution_count": null,
   "metadata": {},
   "outputs": [],
   "source": [
    "# Let's split the data by car to get a validation set.\n",
    "# Alternatively, we could consider doing it by scenes, date or completely randomly.\n",
    "validation_hosts = ['host-a007', 'host-a008', 'host-a009']\n",
    "df_valid = df_scene[df_scene['host'].isin(validation_hosts)]\n",
    "vi = df_valid.index\n",
    "df_train = df_scene[~df_scene.index.isin(vi)]\n",
    "\n",
    "print(len(df_train), len(df_valid), \"train/validation split scene counts\")"
   ]
  },
  {
   "cell_type": "code",
   "execution_count": null,
   "metadata": {},
   "outputs": [],
   "source": [
    "df_train.to_csv(os.path.join(output_dir, 'train.csv'))\n",
    "df_valid.to_csv(os.path.join(output_dir, 'valid.csv'))"
   ]
  }
 ],
 "metadata": {
  "kernelspec": {
   "display_name": "Python 3",
   "language": "python",
   "name": "python3"
  },
  "language_info": {
   "codemirror_mode": {
    "name": "ipython",
    "version": 3
   },
   "file_extension": ".py",
   "mimetype": "text/x-python",
   "name": "python",
   "nbconvert_exporter": "python",
   "pygments_lexer": "ipython3",
   "version": "3.6.7"
  }
 },
 "nbformat": 4,
 "nbformat_minor": 2
}
